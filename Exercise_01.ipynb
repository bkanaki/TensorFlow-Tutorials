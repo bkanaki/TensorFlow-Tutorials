{
 "cells": [
  {
   "cell_type": "markdown",
   "metadata": {},
   "source": [
    "# Tensorflow Tutorial Exercise 01\n",
    "## Simple Linear Model\n",
    "by Bhargav Kanakiya (kanakiyab@gmail.com) | [GitHub](https://github.com/bkanaki)\n",
    "\n",
    "(original tutorial by [Magnus Erik Hvass Pedersen](http://www.hvass-labs.org/)\n",
    "/ [GitHub](https://github.com/Hvass-Labs/TensorFlow-Tutorials) / [Videos on YouTube](https://www.youtube.com/playlist?list=PL9Hr9sNUjfsmEu1ZniY0XpHSzl5uihcXZ))"
   ]
  },
  {
   "cell_type": "markdown",
   "metadata": {},
   "source": [
    "In this exercise, we will see the simple llinear model for MNIST digit classification using tensorflow. Following questions are addressed in this notebook. They are questions from the tuutorial 01 by Hvass labs (link at the top):\n",
    "\n",
    "* Change the learning-rate for the optimizer.\n",
    "* Change the optimizer to e.g. `AdagradOptimizer` or `AdamOptimizer`.\n",
    "* Change the batch-size to e.g. 1 or 1000.\n",
    "* How do these changes affect the performance?\n",
    "* Do you think these changes will have the same effect (if any) on other classification problems and mathematical models?\n",
    "* Do you get the exact same results if you run the Notebook multiple times without changing any parameters? Why or why not?\n",
    "* Change the function `plot_example_errors()` so it also prints the `logits` and `y_pred` values for the mis-classified examples.\n",
    "* Use `sparse_softmax_cross_entropy_with_logits` instead of `softmax_cross_entropy_with_logits`. This may require several changes to multiple places in the source-code. Discuss the advantages and disadvantages of using the two methods.\n",
    "* Remake the program yourself without looking too much at this source-code.\n",
    "* Explain to a friend how the program works.\n",
    "\n",
    "Lets' start with remaking the whole program in a way that it explains to a friend (which could be anyone reading this)"
   ]
  },
  {
   "cell_type": "code",
   "execution_count": 1,
   "metadata": {
    "collapsed": true
   },
   "outputs": [],
   "source": [
    "# import all libraries to be used\n",
    "%matplotlib inline\n",
    "import numpy as np\n",
    "import tensorflow as tf\n",
    "from sklearn.metrics import confusion_matrix\n",
    "import matplotlib.pyplot as plt"
   ]
  },
  {
   "cell_type": "markdown",
   "metadata": {},
   "source": [
    "### Import the MNIST data, define the image properties (size, dimensions, etc)"
   ]
  },
  {
   "cell_type": "code",
   "execution_count": 2,
   "metadata": {
    "collapsed": false
   },
   "outputs": [
    {
     "name": "stdout",
     "output_type": "stream",
     "text": [
      "Extracting MNIST_data/train-images-idx3-ubyte.gz\n",
      "Extracting MNIST_data/train-labels-idx1-ubyte.gz\n",
      "Extracting MNIST_data/t10k-images-idx3-ubyte.gz\n",
      "Extracting MNIST_data/t10k-labels-idx1-ubyte.gz\n"
     ]
    }
   ],
   "source": [
    "from tensorflow.examples.tutorials.mnist import input_data\n",
    "data = input_data.read_data_sets(\"MNIST_data/\", one_hot=True)"
   ]
  },
  {
   "cell_type": "markdown",
   "metadata": {},
   "source": [
    "This input checked if the data exists in the specified directory, if not then it is downloaded. The labels of the classes are one hot encoded. We will see its meaning soon.\n",
    "\n",
    "The data consists of 70k digit images, divided into train/validation/test sets of size 55k/5k/10k."
   ]
  },
  {
   "cell_type": "code",
   "execution_count": 3,
   "metadata": {
    "collapsed": false
   },
   "outputs": [
    {
     "name": "stdout",
     "output_type": "stream",
     "text": [
      "Size of:\n",
      "- Training size:\t55,000\n",
      "- Validation size:\t5,000\n",
      "- Test size:\t\t10,000\n"
     ]
    }
   ],
   "source": [
    "print(\"Size of:\")\n",
    "print(\"- Training size:\\t{:,}\".format(len(data.train.labels)))\n",
    "print(\"- Validation size:\\t{:,}\".format(len(data.validation.labels)))\n",
    "print(\"- Test size:\\t\\t{:,}\".format(len(data.test.labels)))"
   ]
  },
  {
   "cell_type": "markdown",
   "metadata": {},
   "source": [
    "Let's setup the data dimensions now."
   ]
  },
  {
   "cell_type": "code",
   "execution_count": 4,
   "metadata": {
    "collapsed": true
   },
   "outputs": [],
   "source": [
    "img_size = 28\n",
    "\n",
    "img_dim = (img_size, img_size)\n",
    "\n",
    "img_size_flat = img_size*img_size\n",
    "\n",
    "num_classes = 10"
   ]
  },
  {
   "cell_type": "markdown",
   "metadata": {},
   "source": [
    "Let's look at the data, including the images and the labels, both one-hot encoded and actual class."
   ]
  },
  {
   "cell_type": "code",
   "execution_count": 5,
   "metadata": {
    "collapsed": false
   },
   "outputs": [
    {
     "data": {
      "text/plain": [
       "array([[ 0.,  0.,  0.,  0.,  0.,  0.,  0.,  1.,  0.,  0.],\n",
       "       [ 0.,  0.,  1.,  0.,  0.,  0.,  0.,  0.,  0.,  0.],\n",
       "       [ 0.,  1.,  0.,  0.,  0.,  0.,  0.,  0.,  0.,  0.],\n",
       "       [ 1.,  0.,  0.,  0.,  0.,  0.,  0.,  0.,  0.,  0.],\n",
       "       [ 0.,  0.,  0.,  0.,  1.,  0.,  0.,  0.,  0.,  0.]])"
      ]
     },
     "execution_count": 5,
     "metadata": {},
     "output_type": "execute_result"
    }
   ],
   "source": [
    "# one-hot encoded labels, meaning, each row of the dataset contains 0, \n",
    "# except for the class that the label represents. This position is set to 1.\n",
    "data.test.labels[0:5]"
   ]
  },
  {
   "cell_type": "code",
   "execution_count": 6,
   "metadata": {
    "collapsed": false
   },
   "outputs": [
    {
     "data": {
      "text/plain": [
       "array([7, 2, 1, 0, 4])"
      ]
     },
     "execution_count": 6,
     "metadata": {},
     "output_type": "execute_result"
    }
   ],
   "source": [
    "# This is seen by printing the corresponding classes.\n",
    "# But first, we convert these labels to the classes.\n",
    "data.test.cls = np.argmax(data.test.labels, 1)\n",
    "# data.test.cls = np.array([label.argmax() for label in data.test.labels])\n",
    "data.test.cls[0:5]"
   ]
  },
  {
   "cell_type": "code",
   "execution_count": 7,
   "metadata": {
    "collapsed": true
   },
   "outputs": [],
   "source": [
    "# Let's look at the images now, by defining a helper function\n",
    "def show_digits(imgs, cls_true, cls_pred = None):\n",
    "    assert len(imgs) == len(cls_true) == 10\n",
    "    \n",
    "    fig, axes = plt.subplots(2,5)\n",
    "    fig.subplots_adjust(hspace=0.3, wspace=0.4)\n",
    "    \n",
    "    for i, ax in enumerate(axes.flat):\n",
    "        ax.imshow(imgs[i].reshape(img_dim), cmap='binary')\n",
    "\n",
    "        if cls_pred is None:\n",
    "            xlabel = \"True: {0}\".format(cls_true[i])\n",
    "        else:\n",
    "            assert len(cls_pred) == len(cls_true)\n",
    "            xlabel = \"True: {0}\\nPred: {1}\".format(cls_true[i], cls_pred[i])\n",
    "\n",
    "        ax.set_xlabel(xlabel)\n",
    "        \n",
    "        ax.set_xticks([])\n",
    "        ax.set_yticks([])"
   ]
  },
  {
   "cell_type": "code",
   "execution_count": 8,
   "metadata": {
    "collapsed": false
   },
   "outputs": [
    {
     "data": {
      "image/png": "[encoded data removed]",
      "text/plain": [
       "<matplotlib.figure.Figure at 0x124e59940>"
      ]
     },
     "metadata": {},
     "output_type": "display_data"
    }
   ],
   "source": [
    "imgs = data.test.images[0:10]\n",
    "cls_true = data.test.cls[0:10]\n",
    "\n",
    "show_digits(imgs, cls_true)"
   ]
  },
  {
   "cell_type": "markdown",
   "metadata": {},
   "source": [
    "### Tensorflow\n",
    "\n",
    "Now that we have figuresd out and set up the data, time to do some learning from the data using Tehsorflow graphs. Generally, the images are the input to a model and the output is the label representing the class of the image.\n",
    "\n",
    "The linear model for clasification is given as:\n",
    "\n",
    "$$ y_{pred} = f(W^Tx + b) $$\n",
    "\n",
    "In Tensorflow, the inputs ($x$) and outputs ($y$) are the placeholders. Let's start with their definitions."
   ]
  },
  {
   "cell_type": "code",
   "execution_count": 9,
   "metadata": {
    "collapsed": true
   },
   "outputs": [],
   "source": [
    "x_img = tf.placeholder(tf.float32, shape=(None, img_size_flat))\n",
    "y_true = tf.placeholder(tf.float32, shape=(None, num_classes))\n",
    "y_true_cls = tf.placeholder(tf.int64, shape=(None))"
   ]
  },
  {
   "cell_type": "markdown",
   "metadata": {},
   "source": [
    "The model parameters, namely weights ($W$) and biasis ($b$) are defined as Tensorflow variables. These are optimized to find the best representation of the data $x$."
   ]
  },
  {
   "cell_type": "code",
   "execution_count": 10,
   "metadata": {
    "collapsed": true
   },
   "outputs": [],
   "source": [
    "weights = tf.Variable(tf.zeros(shape=(img_size_flat, num_classes)))\n",
    "biases = tf.Variable(tf.zeros(shape=(num_classes)))"
   ]
  },
  {
   "cell_type": "markdown",
   "metadata": {},
   "source": [
    "Now, we define the model as per the equation above. Important thing to note is that there will be no computations yet. Only the Tensorflow graph structure is created. Moreover, the size of the ```logits``` matrix is ```[num_images, num_classes]``` as size of ``` weights``` is ```[img_size_flat, num_classes]``` and size of ```x_img``` is ```[num_images, img_size_flat]```"
   ]
  },
  {
   "cell_type": "code",
   "execution_count": 11,
   "metadata": {
    "collapsed": false
   },
   "outputs": [],
   "source": [
    "logits = tf.matmul(x_img, weights) + biases\n",
    "y_pred = tf.nn.softmax(logits)\n",
    "y_pred_cls = tf.argmax(y_pred, axis=1) # important to note that it should be tf.argmax, not np.argmax"
   ]
  },
  {
   "cell_type": "markdown",
   "metadata": {},
   "source": [
    "Once the model is defined, we need to define optimization of the loss (cost function) by using one of the optimization algorithms provided in tensorflow library."
   ]
  },
  {
   "cell_type": "code",
   "execution_count": 12,
   "metadata": {
    "collapsed": false
   },
   "outputs": [],
   "source": [
    "# define the cost function\n",
    "# cross_entropy_loss = tf.nn.softmax_cross_entropy_with_logits(logits=logits, labels=y_true)\n",
    "# change labels to y_true_cls for using sparse_softmax_cross_entropy_with_logits\n",
    "cross_entropy_loss = tf.nn.sparse_softmax_cross_entropy_with_logits(logits=logits, labels=y_true_cls)\n",
    "loss = tf.reduce_mean(cross_entropy_loss)\n",
    "# define the optimizer\n",
    "optimizer = tf.train.AdagradOptimizer(learning_rate=0.5).minimize(loss)"
   ]
  },
  {
   "cell_type": "code",
   "execution_count": 13,
   "metadata": {
    "collapsed": false
   },
   "outputs": [],
   "source": [
    "# performance measures\n",
    "correct_pred = tf.equal(y_pred_cls, y_true_cls)\n",
    "accuracy = tf.reduce_mean(tf.cast(correct_pred, tf.float32))"
   ]
  },
  {
   "cell_type": "markdown",
   "metadata": {},
   "source": [
    "### Tensorflow session\n",
    "\n",
    "Now that all the placeholders, variables, optimization methods and performance measures are set, we can run the graph in tensorflow by creating a session."
   ]
  },
  {
   "cell_type": "code",
   "execution_count": 14,
   "metadata": {
    "collapsed": true
   },
   "outputs": [],
   "source": [
    "session = tf.Session()"
   ]
  },
  {
   "cell_type": "markdown",
   "metadata": {},
   "source": [
    "Once we start the session, we initialize the variables before starting optimization"
   ]
  },
  {
   "cell_type": "code",
   "execution_count": 15,
   "metadata": {
    "collapsed": true
   },
   "outputs": [],
   "source": [
    "session.run(tf.global_variables_initializer())"
   ]
  },
  {
   "cell_type": "markdown",
   "metadata": {},
   "source": [
    "### Stochastic gradient descent optimization\n",
    "\n",
    "We will optimize in batches, as optimizing a training set of 50k images at one go is time consuming. We define the function for performing stochastic gradient descent optimization."
   ]
  },
  {
   "cell_type": "code",
   "execution_count": 16,
   "metadata": {
    "collapsed": true
   },
   "outputs": [],
   "source": [
    "batch_size = 100\n",
    "def SGD_optim(epochs):\n",
    "    for i in range(epochs):\n",
    "        x_img_batch, y_true_batch = data.train.next_batch(batch_size)\n",
    "        # next line is added to use the sparse_softmax_cross_entropy_with_logits for loss function\n",
    "        y_true_batch_cls = np.argmax(y_true_batch, axis=1)\n",
    "        dict_feed_train = {x_img: x_img_batch,\n",
    "#                            y_true: y_true_batch} uncomment this and comment next line for non sparse loss\n",
    "                          y_true_cls: y_true_batch_cls}\n",
    "        session.run(optimizer, feed_dict=dict_feed_train)"
   ]
  },
  {
   "cell_type": "markdown",
   "metadata": {},
   "source": [
    "### Some helper functions for measuring the performance"
   ]
  },
  {
   "cell_type": "code",
   "execution_count": 17,
   "metadata": {
    "collapsed": true
   },
   "outputs": [],
   "source": [
    "dict_feed_test = {x_img: data.test.images,\n",
    "                     y_true: data.test.labels,\n",
    "                     y_true_cls: data.test.cls}"
   ]
  },
  {
   "cell_type": "code",
   "execution_count": 18,
   "metadata": {
    "collapsed": false
   },
   "outputs": [],
   "source": [
    "def print_accuracy():\n",
    "    acc = session.run(accuracy, feed_dict=dict_feed_test)\n",
    "    print(\"Accuracy on test set: {:.2%}\".format(acc))"
   ]
  },
  {
   "cell_type": "code",
   "execution_count": 19,
   "metadata": {
    "collapsed": true
   },
   "outputs": [],
   "source": [
    "def show_confusion_matrix():\n",
    "    true_cls = data.test.cls\n",
    "    pred_cls = session.run(y_pred_cls, feed_dict=dict_feed_test)\n",
    "    \n",
    "    conf_mat = confusion_matrix(y_true=true_cls, y_pred=pred_cls)\n",
    "    print(conf_mat)\n",
    "    \n",
    "    plt.imshow(conf_mat, interpolation='nearest', cmap=plt.cm.Blues)\n",
    "\n",
    "    plt.tight_layout()\n",
    "    plt.colorbar()\n",
    "    tick_marks = np.arange(num_classes)\n",
    "    plt.xticks(tick_marks, range(num_classes))\n",
    "    plt.yticks(tick_marks, range(num_classes))\n",
    "    plt.xlabel('Predicted')\n",
    "    plt.ylabel('True')"
   ]
  },
  {
   "cell_type": "code",
   "execution_count": 20,
   "metadata": {
    "collapsed": true
   },
   "outputs": [],
   "source": [
    "def plot_example_errors():\n",
    "    correct, pred_cls, logits_i, y_pred_i = session.run([correct_pred, y_pred_cls, logits, y_pred],\n",
    "                                    feed_dict=dict_feed_test)\n",
    "    \n",
    "    incorrect = (correct == False)\n",
    "    \n",
    "    error_img = data.test.images[incorrect]\n",
    "    pred_cls = pred_cls[incorrect]\n",
    "    true_cls = data.test.cls[incorrect]\n",
    "    \n",
    "    show_digits(imgs=error_img[0:10],\n",
    "                cls_true=true_cls[0:10],\n",
    "                cls_pred=pred_cls[0:10])\n",
    "    # printing logits and y_pred values for the mis-classified examples\n",
    "    print(\"Logits and y_pred values for mis-classified examples:\")\n",
    "    for i in range(10):\n",
    "        print(\"True class: {0}\\n -- logits: {1}\\n -- y_pred{2}\".format(true_cls[i], logits_i[i], y_pred_i[i]))"
   ]
  },
  {
   "cell_type": "code",
   "execution_count": 21,
   "metadata": {
    "collapsed": true
   },
   "outputs": [],
   "source": [
    "# function to visualize the weights \n",
    "def show_weights():\n",
    "    w = session.run(weights)\n",
    "    \n",
    "    w_min = np.min(w)\n",
    "    w_max = np.max(w)\n",
    "    \n",
    "    fig, axes = plt.subplots(2,5)\n",
    "    \n",
    "    for i, ax in enumerate(axes.flat):\n",
    "        img = w[:,i].reshape(img_dim)\n",
    "        \n",
    "        ax.imshow(img, vmin=w_min, vmax=w_max, cmap='seismic')\n",
    "        ax.set_xlabel(\"Weights {}\".format(i))\n",
    "        \n",
    "        ax.set_xticks([])\n",
    "        ax.set_yticks([])\n",
    "        "
   ]
  },
  {
   "cell_type": "markdown",
   "metadata": {},
   "source": [
    "### Performance before any optimization"
   ]
  },
  {
   "cell_type": "code",
   "execution_count": 22,
   "metadata": {
    "collapsed": false
   },
   "outputs": [
    {
     "name": "stdout",
     "output_type": "stream",
     "text": [
      "Accuracy on test set: 9.80%\n"
     ]
    }
   ],
   "source": [
    "print_accuracy()"
   ]
  },
  {
   "cell_type": "code",
   "execution_count": 23,
   "metadata": {
    "collapsed": false
   },
   "outputs": [
    {
     "name": "stdout",
     "output_type": "stream",
     "text": [
      "Logits and y_pred values for mis-classified examples:\n",
      "True class: 7\n",
      " -- logits: [ 0.  0.  0.  0.  0.  0.  0.  0.  0.  0.]\n",
      " -- y_pred[ 0.1  0.1  0.1  0.1  0.1  0.1  0.1  0.1  0.1  0.1]\n",
      "True class: 2\n",
      " -- logits: [ 0.  0.  0.  0.  0.  0.  0.  0.  0.  0.]\n",
      " -- y_pred[ 0.1  0.1  0.1  0.1  0.1  0.1  0.1  0.1  0.1  0.1]\n",
      "True class: 1\n",
      " -- logits: [ 0.  0.  0.  0.  0.  0.  0.  0.  0.  0.]\n",
      " -- y_pred[ 0.1  0.1  0.1  0.1  0.1  0.1  0.1  0.1  0.1  0.1]\n",
      "True class: 4\n",
      " -- logits: [ 0.  0.  0.  0.  0.  0.  0.  0.  0.  0.]\n",
      " -- y_pred[ 0.1  0.1  0.1  0.1  0.1  0.1  0.1  0.1  0.1  0.1]\n",
      "True class: 1\n",
      " -- logits: [ 0.  0.  0.  0.  0.  0.  0.  0.  0.  0.]\n",
      " -- y_pred[ 0.1  0.1  0.1  0.1  0.1  0.1  0.1  0.1  0.1  0.1]\n",
      "True class: 4\n",
      " -- logits: [ 0.  0.  0.  0.  0.  0.  0.  0.  0.  0.]\n",
      " -- y_pred[ 0.1  0.1  0.1  0.1  0.1  0.1  0.1  0.1  0.1  0.1]\n",
      "True class: 9\n",
      " -- logits: [ 0.  0.  0.  0.  0.  0.  0.  0.  0.  0.]\n",
      " -- y_pred[ 0.1  0.1  0.1  0.1  0.1  0.1  0.1  0.1  0.1  0.1]\n",
      "True class: 5\n",
      " -- logits: [ 0.  0.  0.  0.  0.  0.  0.  0.  0.  0.]\n",
      " -- y_pred[ 0.1  0.1  0.1  0.1  0.1  0.1  0.1  0.1  0.1  0.1]\n",
      "True class: 9\n",
      " -- logits: [ 0.  0.  0.  0.  0.  0.  0.  0.  0.  0.]\n",
      " -- y_pred[ 0.1  0.1  0.1  0.1  0.1  0.1  0.1  0.1  0.1  0.1]\n",
      "True class: 6\n",
      " -- logits: [ 0.  0.  0.  0.  0.  0.  0.  0.  0.  0.]\n",
      " -- y_pred[ 0.1  0.1  0.1  0.1  0.1  0.1  0.1  0.1  0.1  0.1]\n"
     ]
    },
    {
     "data": {
      "image/png": "[encoded data removed]",
      "text/plain": [
       "<matplotlib.figure.Figure at 0x12e6eb9e8>"
      ]
     },
     "metadata": {},
     "output_type": "display_data"
    }
   ],
   "source": [
    "plot_example_errors()"
   ]
  },
  {
   "cell_type": "code",
   "execution_count": 24,
   "metadata": {
    "collapsed": false
   },
   "outputs": [
    {
     "data": {
      "image/png": "[encoded data removed]",
      "text/plain": [
       "<matplotlib.figure.Figure at 0x12e759e10>"
      ]
     },
     "metadata": {},
     "output_type": "display_data"
    }
   ],
   "source": [
    "show_weights()"
   ]
  },
  {
   "cell_type": "markdown",
   "metadata": {},
   "source": [
    "Running one iteration of the optimization and measuring the accuracy."
   ]
  },
  {
   "cell_type": "code",
   "execution_count": 25,
   "metadata": {
    "collapsed": false
   },
   "outputs": [
    {
     "name": "stdout",
     "output_type": "stream",
     "text": [
      "Accuracy on test set: 40.93%\n"
     ]
    }
   ],
   "source": [
    "SGD_optim(epochs=1)\n",
    "print_accuracy()"
   ]
  },
  {
   "cell_type": "code",
   "execution_count": 26,
   "metadata": {
    "collapsed": false
   },
   "outputs": [
    {
     "name": "stdout",
     "output_type": "stream",
     "text": [
      "Logits and y_pred values for mis-classified examples:\n",
      "True class: 2\n",
      " -- logits: [ 0.78657329 -2.00659871 -1.86792803  0.53371501  1.0180521  -1.30547023\n",
      "  0.59463453  1.57979918  0.72711289 -0.06558412]\n",
      " -- y_pred[ 0.12992622  0.00795495  0.00913822  0.10089783  0.16376714  0.0160374\n",
      "  0.10723557  0.28720397  0.12242595  0.05541272]\n",
      "True class: 4\n",
      " -- logits: [ 1.0939368  -1.11868334 -0.85108721  1.44427049 -1.16692638 -1.06487012\n",
      "  3.6333921  -1.76258588  1.87488079 -2.1420095 ]\n",
      " -- y_pred[ 0.05603888  0.00613142  0.00801265  0.07954949  0.00584264  0.00647041\n",
      "  0.71016765  0.00322046  0.12236272  0.00220362]\n",
      "True class: 9\n",
      " -- logits: [-0.38855657  1.54238176 -0.628672    0.59756607 -0.79929644 -0.62397611\n",
      "  0.95237416 -0.24212463  0.47702545 -0.91537607]\n",
      " -- y_pred[ 0.04816052  0.33211386  0.03788003  0.12910967  0.0319381   0.03805833\n",
      "  0.18409838  0.05575525  0.11444812  0.02843782]\n",
      "True class: 5\n",
      " -- logits: [ 6.52829123 -4.3512311  -3.34133172  0.33888662 -0.3148306  -2.46954465\n",
      "  4.86832809 -1.06621075  1.20321012 -1.49407113]\n",
      " -- y_pred[  8.33918989e-01   1.57111263e-05   4.31321350e-05   1.71040767e-03\n",
      "   8.89597868e-04   1.03136714e-04   1.58566356e-01   4.19636810e-04\n",
      "   4.05948237e-03   2.73562153e-04]\n",
      "True class: 9\n",
      " -- logits: [ 1.77245951 -3.01969314 -1.53419304  0.33773574  1.22105038 -1.46682167\n",
      "  1.39303422 -0.29184622  0.59479439  0.95667797]\n",
      " -- y_pred[ 0.28902611  0.00239735  0.01058952  0.06884057  0.16651875  0.01132753\n",
      "  0.19776742  0.03667925  0.08901919  0.12783438]\n",
      "True class: 6\n",
      " -- logits: [-0.56996697  1.83663535 -0.96823299  0.88459486 -0.9516269  -0.72371358\n",
      "  0.81331015 -0.21895654  0.91892558 -1.05257833]\n",
      " -- y_pred[ 0.03442542  0.38199115  0.0231161   0.14743051  0.02350316  0.02951942\n",
      "  0.13728681  0.04890138  0.15257978  0.02124632]\n",
      "True class: 9\n",
      " -- logits: [ 0.29064003 -1.96935129 -2.18566108  1.29506421  2.03664303 -0.86667883\n",
      "  0.48971444  0.06396426  1.15663338 -0.34125426]\n",
      " -- y_pred[ 0.06715412  0.00700763  0.00564454  0.18335325  0.38490379  0.02110841\n",
      "  0.08194635  0.05353388  0.15964998  0.03569805]\n",
      "True class: 1\n",
      " -- logits: [ 0.24668862 -1.38992655 -2.51338053  0.84546942  1.28309643 -0.98107904\n",
      "  2.22886944 -0.19587469  1.00736058 -0.56538588]\n",
      " -- y_pred[ 0.05997205  0.01167282  0.00379547  0.10914305  0.16906552  0.01756856\n",
      "  0.43531042  0.0385253   0.128323    0.02662376]\n",
      "True class: 5\n",
      " -- logits: [ 3.37874651 -2.10137796 -2.41545749  0.05489995 -0.18492424 -2.11738658\n",
      "  3.67632914 -1.75293267  1.28296125  0.10724689]\n",
      " -- y_pred[ 0.38623542  0.00161014  0.00117615  0.01390989  0.01094384  0.00158457\n",
      "  0.52010447  0.00228135  0.04749678  0.01465743]\n",
      "True class: 9\n",
      " -- logits: [ 2.03818679 -2.36859059 -3.77701879  0.15893437  1.72268772 -1.96361589\n",
      "  2.11838579  0.62153912  1.44304144 -0.06108955]\n",
      " -- y_pred[ 0.25538588  0.00311428  0.00076153  0.0389985   0.18628475  0.00466913\n",
      "  0.27671126  0.06193763  0.1408408   0.03129628]\n"
     ]
    },
    {
     "data": {
      "image/png": "[encoded data removed]",
      "text/plain": [
       "<matplotlib.figure.Figure at 0x12eb1feb8>"
      ]
     },
     "metadata": {},
     "output_type": "display_data"
    }
   ],
   "source": [
    "plot_example_errors()"
   ]
  },
  {
   "cell_type": "code",
   "execution_count": 27,
   "metadata": {
    "collapsed": false
   },
   "outputs": [
    {
     "data": {
      "image/png": "[encoded data removed]",
      "text/plain": [
       "<matplotlib.figure.Figure at 0x12e77f240>"
      ]
     },
     "metadata": {},
     "output_type": "display_data"
    }
   ],
   "source": [
    "show_weights()"
   ]
  },
  {
   "cell_type": "markdown",
   "metadata": {},
   "source": [
    "By looking at the weights, we can say that the weights corresponding to classes 2, 5, and 9 are ugly! Meaning, there is a lot of negative values (represented by darker shade of blue) and thus, the prediction will possibly have an impact on these classes. Let's look at the confusion matrix to corroborate our argument."
   ]
  },
  {
   "cell_type": "code",
   "execution_count": 28,
   "metadata": {
    "collapsed": false
   },
   "outputs": [
    {
     "name": "stdout",
     "output_type": "stream",
     "text": [
      "[[888   0   0   0   0   0  89   0   3   0]\n",
      " [  0 538   0   2   0   0 398   0 197   0]\n",
      " [148   0   0  86   0   0 718   0  80   0]\n",
      " [136   0   0 642   0   0 168   0  64   0]\n",
      " [136   0   0  19 303   0 502   0  22   0]\n",
      " [426   1   0  48   2   0 305   0 110   0]\n",
      " [ 82   0   0   0   0   0 876   0   0   0]\n",
      " [329   3   0  44  12   0 288 228 124   0]\n",
      " [ 77   0   0  27   2   0 250   0 618   0]\n",
      " [169   0   0  34 116   0 554   0 136   0]]\n"
     ]
    },
    {
     "data": {
      "image/png": "[encoded data removed]",
      "text/plain": [
       "<matplotlib.figure.Figure at 0x12ee6e160>"
      ]
     },
     "metadata": {},
     "output_type": "display_data"
    }
   ],
   "source": [
    "show_confusion_matrix()"
   ]
  },
  {
   "cell_type": "markdown",
   "metadata": {},
   "source": [
    "Amazing! None of the few classes are predicted at all. This is because at the time of prediction, inner product between weights and the flattened version of the image is taken, and as most of the values in these classes are negative, the classifier ends up classifying them as some other labels with a relatively higher inner product.\n",
    "\n",
    "Now let's optimize for more number of iterations. As one would guess, the weights of classes should start becoming more positive, and maybe less uglier. We will train for 100 iterations now. As we have already performed 1 iteration, the code takes in 99 for nest run."
   ]
  },
  {
   "cell_type": "code",
   "execution_count": 29,
   "metadata": {
    "collapsed": true
   },
   "outputs": [],
   "source": [
    "SGD_optim(epochs=99)"
   ]
  },
  {
   "cell_type": "code",
   "execution_count": 30,
   "metadata": {
    "collapsed": false
   },
   "outputs": [
    {
     "name": "stdout",
     "output_type": "stream",
     "text": [
      "Accuracy on test set: 89.04%\n"
     ]
    }
   ],
   "source": [
    "print_accuracy()"
   ]
  },
  {
   "cell_type": "markdown",
   "metadata": {},
   "source": [
    "The accuracy increased significantly! Let's look at the example errors, weights and confusion matrix."
   ]
  },
  {
   "cell_type": "code",
   "execution_count": 31,
   "metadata": {
    "collapsed": false
   },
   "outputs": [
    {
     "name": "stdout",
     "output_type": "stream",
     "text": [
      "Logits and y_pred values for mis-classified examples:\n",
      "True class: 5\n",
      " -- logits: [ -0.35223573  -6.37465      0.99423909   2.77413392  -0.65206188\n",
      "  -2.94482517  -5.06750774  11.12849045   0.45235673   3.11301303]\n",
      " -- y_pred[  1.03205502e-05   2.50150869e-08   3.96706528e-05   2.35216547e-04\n",
      "   7.64698416e-06   7.72245869e-07   9.24455250e-08   9.99352992e-01\n",
      "   2.30745263e-05   3.30096867e-04]\n",
      "True class: 4\n",
      " -- logits: [  4.59465742  -0.24336913   9.79928589   4.6358943   -9.26498032\n",
      "   3.60580373   5.44816065 -10.7249279    1.6877439   -7.69762707]\n",
      " -- y_pred[  5.34937531e-03   4.23813544e-05   9.74191844e-01   5.57457842e-03\n",
      "   5.11845499e-09   1.98998232e-03   1.25595713e-02   1.18875321e-09\n",
      "   2.92312005e-04   2.45375578e-08]\n",
      "True class: 5\n",
      " -- logits: [-4.56095362  5.92151928  2.47925019  0.11989722 -1.01846147 -2.10020852\n",
      "  0.49318689  0.32609755  1.45494771 -1.66674614]\n",
      " -- y_pred[  2.65262497e-05   9.46577549e-01   3.02829184e-02   2.86117080e-03\n",
      "   9.16560122e-04   3.10716394e-04   4.15586494e-03   3.51637648e-03\n",
      "   1.08729834e-02   4.79307695e-04]\n",
      "True class: 8\n",
      " -- logits: [ 12.23799992  -9.73222446   1.7977879   -1.86544061  -6.06244898\n",
      "   2.2182622    4.33538771   1.95369446  -0.24741283  -1.20539641]\n",
      " -- y_pred[  9.99516606e-01   2.87238594e-10   2.92188706e-05   7.49451829e-07\n",
      "   1.12721263e-08   4.44911275e-05   3.69597576e-04   3.41485938e-05\n",
      "   3.77958600e-06   1.45009699e-06]\n",
      "True class: 3\n",
      " -- logits: [-1.82615054 -5.37544823  2.37930202 -4.05885267  6.42873716 -3.48615456\n",
      "  0.91796333  1.75748146  0.36380395  3.96817756]\n",
      " -- y_pred[  2.32359424e-04   6.67912582e-06   1.55799147e-02   2.49178192e-05\n",
      "   8.93742502e-01   4.41803822e-05   3.61338165e-03   8.36588442e-03\n",
      "   2.07608589e-03   7.63141289e-02]\n",
      "True class: 9\n",
      " -- logits: [-6.16114616  7.44597244  2.48963881  0.65094393 -0.85064524 -3.43721128\n",
      " -1.21591842  1.81870854  2.60693169 -1.24072421]\n",
      " -- y_pred[  1.20721086e-06   9.80120897e-01   6.89876406e-03   1.09707471e-03\n",
      "   2.44401832e-04   1.83981047e-05   1.69616527e-04   3.52687389e-03\n",
      "   7.75730703e-03   1.65460791e-04]\n",
      "True class: 2\n",
      " -- logits: [-5.97579861 -3.99279594 -4.63497448 -1.12939394  8.55478001  2.46974516\n",
      " -0.70687664  1.25569892  3.40451646  3.21741223]\n",
      " -- y_pred[  4.82537246e-07   3.50540290e-06   1.84435009e-06   6.14183009e-05\n",
      "   9.86463308e-01   2.24586623e-03   9.37118530e-05   6.67007000e-04\n",
      "   5.71939116e-03   4.74341866e-03]\n",
      "True class: 9\n",
      " -- logits: [-6.90674448 -0.16427207  0.02874587 -0.51010954  2.91121769 -0.7686137\n",
      " -0.48855835 -0.13443968  1.40431166  5.83740044]\n",
      " -- y_pred[  2.70712576e-06   2.29470409e-03   2.78325728e-03   1.62379630e-03\n",
      "   4.97044213e-02   1.25390466e-03   1.65917084e-03   2.36419286e-03\n",
      "   1.10142278e-02   9.27299559e-01]\n",
      "True class: 9\n",
      " -- logits: [ 0.35044748 -2.76373458  5.42592955 -8.96584892  2.10858917  1.05462706\n",
      "  7.5804224  -4.31799221  1.95127392 -0.15339923]\n",
      " -- y_pred[  6.43220788e-04   2.85685273e-05   1.02947041e-01   5.78553419e-08\n",
      "   3.73173854e-03   1.30071235e-03   8.87765408e-01   6.03785111e-06\n",
      "   3.18852696e-03   3.88635148e-04]\n",
      "True class: 7\n",
      " -- logits: [-2.90924454 -6.52688551 -4.02439404 -6.10474825  5.71402645 -2.81050301\n",
      " -0.6903252   7.37261629  3.79312539  9.65743923]\n",
      " -- y_pred[  3.10149790e-06   8.32626412e-08   1.01687647e-06   1.26993541e-07\n",
      "   1.72429066e-02   3.42337444e-06   2.85256865e-05   9.05580148e-02\n",
      "   2.52565276e-03   8.89637113e-01]\n"
     ]
    },
    {
     "data": {
      "image/png": "[encoded data removed]",
      "text/plain": [
       "<matplotlib.figure.Figure at 0x12e495e80>"
      ]
     },
     "metadata": {},
     "output_type": "display_data"
    }
   ],
   "source": [
    "plot_example_errors()"
   ]
  },
  {
   "cell_type": "code",
   "execution_count": 32,
   "metadata": {
    "collapsed": false
   },
   "outputs": [
    {
     "data": {
      "image/png": "[encoded data removed]",
      "text/plain": [
       "<matplotlib.figure.Figure at 0x12e25b7b8>"
      ]
     },
     "metadata": {},
     "output_type": "display_data"
    }
   ],
   "source": [
    "show_weights()"
   ]
  },
  {
   "cell_type": "code",
   "execution_count": 33,
   "metadata": {
    "collapsed": false
   },
   "outputs": [
    {
     "name": "stdout",
     "output_type": "stream",
     "text": [
      "[[ 938    0    2    3    1    9   19    3    5    0]\n",
      " [   0 1110    6    1    0    0    4    3   11    0]\n",
      " [   8    3  942    9    8    1   21   20   18    2]\n",
      " [   2    3   49  892    2   18    4   17   18    5]\n",
      " [   0    4   13    0  888    0   30    1   14   32]\n",
      " [  11    6   16   61   21  649   25   18   75   10]\n",
      " [   5    3   11    2    7    3  922    1    4    0]\n",
      " [   2   12   37    2   11    0    1  946    1   16]\n",
      " [   8   17   46   21   17   17   17   19  797   15]\n",
      " [  10    9    8   11   77    4    2   56   12  820]]\n"
     ]
    },
    {
     "data": {
      "image/png": "[encoded data removed]",
      "text/plain": [
       "<matplotlib.figure.Figure at 0x127bdba90>"
      ]
     },
     "metadata": {},
     "output_type": "display_data"
    }
   ],
   "source": [
    "show_confusion_matrix()"
   ]
  },
  {
   "cell_type": "markdown",
   "metadata": {},
   "source": [
    "We can see that there's a huge improvement in accuracy. Moreover, all the weights are now less ugly (ugliness is the measure of number of negative values, here). We can see some blue parts but these correspond to most of the white regions in the actual image, which are in turn 0 and thus, there's no significant contribution when we take the inner product.\n",
    "\n",
    "Let's now train for 1000 iterations. And then, we will address some of the questions posed as exercise, mentioned at the beginning of the notebook."
   ]
  },
  {
   "cell_type": "code",
   "execution_count": 34,
   "metadata": {
    "collapsed": false
   },
   "outputs": [
    {
     "name": "stdout",
     "output_type": "stream",
     "text": [
      "Accuracy on test set: 91.25%\n",
      "[[ 964    0    1    1    0    8    2    2    2    0]\n",
      " [   0 1111    2    1    0    1    3    2   15    0]\n",
      " [  10   25  890    9    9    6    5   10   60    8]\n",
      " [   5    1   18  884    0   33    1   13   43   12]\n",
      " [   2    5    8    1  905    0    1    3   12   45]\n",
      " [  11    3    5   25   10  765    5    5   54    9]\n",
      " [  21    3   16    1   26   26  843    3   19    0]\n",
      " [   3   14   20    5    6    1    0  936    4   39]\n",
      " [   4    9    6    9    8   15    3    8  908    4]\n",
      " [   9    8    1    5   26    6    0   21   14  919]]\n",
      "Logits and y_pred values for mis-classified examples:\n",
      "True class: 5\n",
      " -- logits: [  0.69607562 -10.23153591   1.62532365   5.54340887  -2.66527295\n",
      "   0.36674309  -9.98183155  12.96974564   1.0801065    3.00278711]\n",
      " -- y_pred[  4.67005839e-06   8.38533687e-11   1.18274056e-05   5.94966405e-04\n",
      "   1.61997136e-07   3.35965797e-06   1.07638246e-10   9.99331355e-01\n",
      "   6.85653913e-06   4.68936669e-05]\n",
      "True class: 4\n",
      " -- logits: [  6.98873663   0.34851587  12.13910294   7.24891424 -14.5252409\n",
      "   5.98181248   7.51384687 -19.72810745   5.91301918 -11.45787811]\n",
      " -- y_pred[  5.64365368e-03   7.37477831e-06   9.73500133e-01   7.32072396e-03\n",
      "   2.55951814e-12   2.06185784e-03   9.54141561e-03   1.40793427e-14\n",
      "   1.92478485e-03   5.49917265e-11]\n",
      "True class: 3\n",
      " -- logits: [-7.02847385  7.71084833  1.94295979  0.64087397 -2.69764709 -0.36777711\n",
      " -1.13364851  1.15745628  1.34860063 -1.206815  ]\n",
      " -- y_pred[  3.93951098e-07   9.92313325e-01   3.10232048e-03   8.43719230e-04\n",
      "   2.99431085e-05   3.07713315e-04   1.43064768e-04   1.41431740e-03\n",
      "   1.71222119e-03   1.32970934e-04]\n",
      "True class: 6\n",
      " -- logits: [ 13.84679222 -12.21299458   2.63214993  -0.73366743  -5.70523262\n",
      "   2.5780921    0.13408753  -0.45765054   2.18614554  -0.54099166]\n",
      " -- y_pred[  9.99962449e-01   4.81239918e-12   1.34749243e-05   4.65340179e-07\n",
      "   3.22587246e-09   1.27658468e-05   1.10823464e-06   6.13258123e-07\n",
      "   8.62639445e-06   5.64219988e-07]\n",
      "True class: 7\n",
      " -- logits: [-1.13307953 -7.55660868  1.24541223 -3.88983965  7.68871403 -1.7974\n",
      " -0.2194837   1.04809415  1.53147745  3.46564579]\n",
      " -- y_pred[  1.44553531e-04   2.34598517e-07   1.55953318e-03   9.17873422e-06\n",
      "   9.80132937e-01   7.43905548e-05   3.60411213e-04   1.28026668e-03\n",
      "   2.07601790e-03   1.43624907e-02]\n",
      "True class: 7\n",
      " -- logits: [-8.4125843   9.46801472  1.158306    1.45761561 -3.7164731  -1.83626986\n",
      " -3.83052111  2.80012226  2.54312086  0.66238749]\n",
      " -- y_pred[  1.71101586e-08   9.97010946e-01   2.45380099e-04   3.30999930e-04\n",
      "   1.87391288e-06   1.22831934e-05   1.67193355e-06   1.26727542e-03\n",
      "   9.80069279e-04   1.49439278e-04]\n",
      "True class: 2\n",
      " -- logits: [-5.35185003 -7.5356698  -5.67096376 -1.65705574  9.76130772  3.8687501\n",
      " -2.34596491  2.30037403  4.60811043  3.52642298]\n",
      " -- y_pred[  2.70176884e-07   3.04247436e-08   1.96362450e-07   1.08711802e-05\n",
      "   9.89028931e-01   2.72962963e-03   5.45867306e-06   5.68809279e-04\n",
      "   5.71746938e-03   1.93835353e-03]\n",
      "True class: 9\n",
      " -- logits: [-10.31768227   2.74671268  -1.60153341  -0.05362009   2.52722454\n",
      "   1.15077913  -4.43290806  -0.28648829   2.15505505   7.69060469]\n",
      " -- y_pred[  1.48210244e-08   6.99315360e-03   9.04177723e-05   4.25112696e-04\n",
      "   5.61501086e-03   1.41764665e-03   5.32848298e-06   3.36798956e-04\n",
      "   3.87007534e-03   9.81246412e-01]\n",
      "True class: 3\n",
      " -- logits: [ 3.30375338 -5.02566624  1.23483431 -9.18255234  4.85331297  3.46844006\n",
      "  9.79738426 -9.32816696  3.48193336 -1.33511519]\n",
      " -- y_pred[  1.49445888e-03   3.60630963e-07   1.88783481e-04   5.64612268e-09\n",
      "   7.03799818e-03   1.76200247e-03   9.87715900e-01   4.88102092e-09\n",
      "   1.78593921e-03   1.44493679e-05]\n",
      "True class: 5\n",
      " -- logits: [ -3.53391504 -11.14701939  -4.81529331  -4.86275148   7.22968483\n",
      "  -0.94523787  -5.42520142   8.15700722   5.37518311  11.07246494]\n",
      " -- y_pred[  4.20260136e-07   2.07581771e-10   1.16687112e-07   1.11278659e-07\n",
      "   1.98650863e-02   5.59456748e-06   6.34079313e-08   5.02136052e-02\n",
      "   3.10950004e-03   9.26805556e-01]\n"
     ]
    },
    {
     "data": {
      "image/png": "[encoded data removed]",
      "text/plain": [
       "<matplotlib.figure.Figure at 0x12e4c5b70>"
      ]
     },
     "metadata": {},
     "output_type": "display_data"
    },
    {
     "data": {
      "image/png": "[encoded data removed]",
      "text/plain": [
       "<matplotlib.figure.Figure at 0x12ee599b0>"
      ]
     },
     "metadata": {},
     "output_type": "display_data"
    },
    {
     "data": {
      "image/png": "[encoded data removed]",
      "text/plain": [
       "<matplotlib.figure.Figure at 0x12e84b5f8>"
      ]
     },
     "metadata": {},
     "output_type": "display_data"
    }
   ],
   "source": [
    "SGD_optim(epochs=900)\n",
    "print_accuracy()\n",
    "show_confusion_matrix()\n",
    "plot_example_errors()\n",
    "show_weights()"
   ]
  },
  {
   "cell_type": "markdown",
   "metadata": {},
   "source": [
    "Firstly, we answer the following questions:\n",
    "\n",
    "* Change the learning-rate for the optimizer.\n",
    "    * If we increase the learning rate, then there is a chance that the optimization may never reach it's minimum and will keep oscillating around the minima. This, if we perform the same experiment with learning rate of 5 instead of 0.5, then the accuracy drops to 68% after 1000 iterations eventhough, at 100 iterations, the accuracy was 76%. However, if we reduce the learning rate, say to 0.05 instead of 0.5, the training takes more time to achieve the same accuracy which is achieved by using a learning rate of 0.5. With the rate as 0.05, after 1000 iterations, the accuracy is 90% whereas with 0.5, it was 92%.\n",
    "* Change the optimizer to e.g. `AdagradOptimizer` or `AdamOptimizer`.\n",
    "    * Changing the optimizer, with the same learning rate, does not seem to change the final accuracy. This means that in this case, all the optimizers are able to find the global minima. However, the results have some variation of 1% due to numerical calculations.\n",
    "* Change the batch-size to e.g. 1 or 1000.\n",
    "    * Reducing the batch size to a very low value of 1 reduces the accuracy significantly for the same number of iterations. When using batch size of 100, the accuracy is 92% but when batch size is 1, the accuracy is 82%. Thus, we need more number of iterations and hence larger training time to achieve a higher accuracy. On the contrary, increasing batch size aids in faster learning. As in, within 100 iterations, it achieves accuracy of 90% whereas with the batch size of 100, it is about 87%. However, as the batch size is higher, processing each iteration is time consuming and thus, it takes more time when we run 1000 iteration. Even then, there is no significant gain (gain of less than 1%) in the accuracy. So, a very large batch size is also not desireable.\n",
    "* How do these changes affect the performance?\n",
    "    * They are mentioned in each of the questions above.\n",
    "* Do you think these changes will have the same effect (if any) on other classification problems and mathematical models?\n",
    "    * These changes will have same effect on the other classification problems.\n",
    "* Do you get the exact same results if you run the Notebook multiple times without changing any parameters? Why or why not?\n",
    "    * We do not get the exact same results by running the Notebook multiple time as it is nearly impossible to achieve exact same numerical values of the parameters during each run."
   ]
  },
  {
   "cell_type": "markdown",
   "metadata": {},
   "source": [
    "In the last part, we use `sparse_softmax_cross_entropy_with_logits` instead of `softmax_cross_entropy_with_logits`. For this, we do not need to define another model which takes in sparse tensors for the computation. For reference, see [here](https://www.tensorflow.org/versions/r0.11/api_docs/python/io_ops/placeholders#sparse_placeholder) and [there](https://www.tensorflow.org/api_guides/python/sparse_ops).\n",
    "\n",
    "The only changes that are required are in the labels provided to the cross entropy function. Tha labels must be the class index rather than the one hot encoded version. It is mentioned in comments in appropriate cells."
   ]
  },
  {
   "cell_type": "code",
   "execution_count": null,
   "metadata": {
    "collapsed": true
   },
   "outputs": [],
   "source": []
  }
 ],
 "metadata": {
  "kernelspec": {
   "display_name": "Python 3",
   "language": "python",
   "name": "python3"
  },
  "language_info": {
   "codemirror_mode": {
    "name": "ipython",
    "version": 3
   },
   "file_extension": ".py",
   "mimetype": "text/x-python",
   "name": "python",
   "nbconvert_exporter": "python",
   "pygments_lexer": "ipython3",
   "version": "3.6.0"
  }
 },
 "nbformat": 4,
 "nbformat_minor": 2
}
